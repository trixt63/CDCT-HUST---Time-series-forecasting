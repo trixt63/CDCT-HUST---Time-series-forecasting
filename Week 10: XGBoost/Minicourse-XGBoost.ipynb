{
 "cells": [
  {
   "cell_type": "markdown",
   "metadata": {},
   "source": [
    "# Get started with XGBoost Python\n"
   ]
  },
  {
   "cell_type": "markdown",
   "metadata": {},
   "source": [
    "## 1 Gradient Boosting\n",
    "\n",
    "Gradient Boosting involves 3 elements:\n",
    "- A loss function to be optimized\n",
    "- A weak learner to make predictions\n",
    "- An additive model, to add weak learners to minimize the loss function"
   ]
  },
  {
   "cell_type": "markdown",
   "metadata": {},
   "source": [
    "## 2. XGBoost\n",
    "An implementation of gradient boosted decision trees, with speed provided by the engineering of the implementation, including:\n",
    "- Parallelization\n",
    "- Distributed Computing\n",
    "- Out-of-core Computing\n",
    "- Cache Optimization"
   ]
  },
  {
   "cell_type": "markdown",
   "metadata": {},
   "source": [
    "## 3. First XGBoost model"
   ]
  },
  {
   "cell_type": "code",
   "execution_count": 1,
   "metadata": {},
   "outputs": [
    {
     "name": "stdout",
     "output_type": "stream",
     "text": [
      "<class 'numpy.ndarray'>\n",
      "[[  6.    148.     72.    ...   0.627  50.      1.   ]\n",
      " [  1.     85.     66.    ...   0.351  31.      0.   ]\n",
      " [  8.    183.     64.    ...   0.672  32.      1.   ]\n",
      " ...\n",
      " [  5.    121.     72.    ...   0.245  30.      0.   ]\n",
      " [  1.    126.     60.    ...   0.349  47.      1.   ]\n",
      " [  1.     93.     70.    ...   0.315  23.      0.   ]]\n"
     ]
    }
   ],
   "source": [
    "import numpy as np\n",
    "from matplotlib import pyplot as plt\n",
    "from sklearn.model_selection import train_test_split\n",
    "from sklearn.metrics import accuracy_score\n",
    "from xgboost import XGBClassifier\n",
    "\n",
    "# load data\n",
    "dataset = np.loadtxt('pima-indians-diabetes.csv', delimiter=\",\")\n",
    "\n",
    "print(type(dataset))\n",
    "print(dataset)"
   ]
  },
  {
   "cell_type": "code",
   "execution_count": 3,
   "metadata": {},
   "outputs": [
    {
     "name": "stdout",
     "output_type": "stream",
     "text": [
      "[[1.50e+01 1.36e+02 7.00e+01 ... 3.71e+01 1.53e-01 4.30e+01]\n",
      " [0.00e+00 9.70e+01 6.40e+01 ... 3.68e+01 6.00e-01 2.50e+01]\n",
      " [1.00e+00 1.16e+02 7.00e+01 ... 2.74e+01 2.04e-01 2.10e+01]\n",
      " ...\n",
      " [1.30e+01 1.26e+02 9.00e+01 ... 4.34e+01 5.83e-01 4.20e+01]\n",
      " [4.00e+00 1.71e+02 7.20e+01 ... 4.36e+01 4.79e-01 2.60e+01]\n",
      " [9.00e+00 1.02e+02 7.60e+01 ... 3.29e+01 6.65e-01 4.60e+01]]\n",
      "[1. 0. 0. 0. 0. 0. 0. 1. 0. 1. 0. 0. 1. 0. 0. 1. 0. 0. 0. 0. 1. 0. 1. 0.\n",
      " 0. 0. 0. 1. 1. 0. 0. 0. 0. 1. 0. 0. 0. 0. 0. 0. 0. 0. 0. 0. 0. 0. 0. 0.\n",
      " 1. 0. 0. 0. 1. 0. 1. 1. 1. 0. 0. 1. 1. 0. 1. 1. 0. 0. 1. 0. 1. 0. 1. 0.\n",
      " 0. 0. 1. 1. 0. 1. 0. 0. 1. 1. 1. 0. 0. 1. 0. 1. 1. 0. 1. 1. 0. 0. 1. 1.\n",
      " 1. 0. 1. 0. 0. 1. 0. 1. 0. 0. 0. 0. 0. 1. 1. 1. 0. 0. 0. 0. 1. 1. 0. 0.\n",
      " 0. 0. 0. 1. 1. 0. 0. 0. 0. 1. 0. 0. 0. 0. 0. 1. 0. 0. 0. 0. 1. 0. 0. 0.\n",
      " 1. 1. 0. 1. 0. 0. 0. 1. 0. 0. 0. 1. 1. 0. 0. 1. 0. 0. 0. 0. 0. 0. 0. 0.\n",
      " 1. 0. 1. 0. 1. 0. 1. 0. 0. 0. 0. 0. 0. 1. 0. 1. 1. 0. 1. 1. 1. 0. 1. 0.\n",
      " 0. 1. 1. 0. 1. 1. 1. 0. 0. 1. 0. 0. 0. 0. 0. 0. 0. 0. 0. 0. 1. 0. 0. 0.\n",
      " 0. 0. 1. 0. 0. 0. 0. 0. 1. 0. 1. 0. 0. 0. 0. 0. 0. 0. 0. 0. 1. 0. 1. 0.\n",
      " 0. 1. 1. 0. 0. 0. 0. 0. 0. 0. 1. 0. 0. 1. 0. 0. 0. 0. 1. 1. 0. 0. 0. 0.\n",
      " 0. 0. 1. 0. 1. 1. 0. 0. 1. 0. 0. 0. 0. 0. 1. 0. 0. 0. 0. 0. 1. 1. 0. 0.\n",
      " 1. 1. 0. 0. 1. 0. 0. 0. 0. 0. 0. 1. 0. 0. 0. 1. 1. 0. 1. 1. 1. 0. 0. 0.\n",
      " 0. 1. 0. 1. 0. 0. 0. 0. 1. 0. 0. 0. 1. 0. 1. 0. 1. 1. 0. 1. 0. 0. 0. 0.\n",
      " 0. 0. 1. 0. 0. 1. 0. 0. 1. 0. 0. 0. 0. 1. 0. 0. 0. 1. 0. 1. 0. 0. 0. 0.\n",
      " 0. 1. 1. 1. 0. 0. 0. 0. 1. 1. 1. 1. 1. 1. 1. 0. 0. 0. 1. 0. 0. 0. 0. 1.\n",
      " 0. 1. 0. 0. 1. 0. 0. 1. 0. 0. 0. 0. 0. 1. 0. 1. 0. 1. 0. 1. 0. 0. 0. 1.\n",
      " 0. 1. 1. 0. 0. 1. 1. 0. 0. 0. 1. 1. 0. 0. 1. 1. 0. 0. 1. 0. 0. 0. 1. 0.\n",
      " 0. 0. 1. 1. 0. 0. 0. 0. 0. 0. 0. 0. 0. 0. 0. 1. 1. 0. 0. 0. 1. 0. 1. 0.\n",
      " 1. 0. 0. 0. 1. 0. 1. 1. 1. 1. 0. 0. 0. 1. 0. 0. 0. 0. 0. 1. 0. 1. 1. 0.\n",
      " 0. 0. 0. 1. 1. 1. 0. 1. 0. 1. 0. 1. 0. 1. 0. 0. 0. 0. 0. 0. 1. 1. 0. 0.\n",
      " 0. 0. 1. 0. 0. 0. 0. 0. 0. 1. 1. 0. 0. 0. 0. 0. 1. 1. 1. 1. 0. 0. 0. 0.\n",
      " 1. 0. 1. 0. 0. 1. 1. 1. 1.]\n"
     ]
    }
   ],
   "source": [
    "# split data to X and y\n",
    "X = dataset[:, :8]\n",
    "y = dataset[:, 8]\n",
    "\n",
    "# train-test split\n",
    "# Add validation set, with rate: 70% Test - 15% Val - 15% Test\n",
    "X_train, X_test, y_train, y_test = train_test_split(X, y, train_size=0.7, random_state=1)\n",
    "print(X_train)\n",
    "print(y_train)"
   ]
  },
  {
   "cell_type": "code",
   "execution_count": 7,
   "metadata": {},
   "outputs": [
    {
     "name": "stdout",
     "output_type": "stream",
     "text": [
      "0.7705627705627706\n"
     ]
    }
   ],
   "source": [
    "# fit model\n",
    "model = XGBClassifier(use_label_encoder=False)\n",
    "model.fit(X_train, y_train, eval_metric='logloss')\n",
    "\n",
    "# test model\n",
    "y_pred = model.predict(X_test)\n",
    "\n",
    "# evaluate predictions\n",
    "accuracy = accuracy_score(y_test, y_pred)\n",
    "print(accuracy)"
   ]
  },
  {
   "cell_type": "markdown",
   "metadata": {},
   "source": [
    "## 4. Monitor Performance and Early Stopping\n",
    "\n",
    "Parameters for early stopping:\n",
    "- ```eval_set```\n",
    "- ```eval_metric```\n",
    "- ```early_stopping_rounds```"
   ]
  },
  {
   "cell_type": "code",
   "execution_count": 12,
   "metadata": {},
   "outputs": [],
   "source": [
    "# Add validation set, with rate: 70% Test - 15% Val - 15% Test\n",
    "X_train, X_left, y_train, y_left = train_test_split(X,y,train_size= 0.7, random_state=1)\n",
    "X_val, X_test, y_val, y_test = train_test_split(X_left, y_left, train_size=0.5, random_state=1)\n",
    "\n",
    "eval_set = [(X_val, y_val)]"
   ]
  },
  {
   "cell_type": "code",
   "execution_count": 14,
   "metadata": {},
   "outputs": [
    {
     "name": "stdout",
     "output_type": "stream",
     "text": [
      "[0]\tvalidation_0-logloss:0.58967\n",
      "[1]\tvalidation_0-logloss:0.54411\n",
      "[2]\tvalidation_0-logloss:0.51770\n",
      "[3]\tvalidation_0-logloss:0.48411\n",
      "[4]\tvalidation_0-logloss:0.47285\n",
      "[5]\tvalidation_0-logloss:0.46039\n",
      "[6]\tvalidation_0-logloss:0.45860\n",
      "[7]\tvalidation_0-logloss:0.45989\n",
      "[8]\tvalidation_0-logloss:0.44784\n",
      "[9]\tvalidation_0-logloss:0.44262\n",
      "[10]\tvalidation_0-logloss:0.44435\n",
      "[11]\tvalidation_0-logloss:0.44133\n",
      "[12]\tvalidation_0-logloss:0.43392\n",
      "[13]\tvalidation_0-logloss:0.43143\n",
      "[14]\tvalidation_0-logloss:0.43245\n",
      "[15]\tvalidation_0-logloss:0.43132\n",
      "[16]\tvalidation_0-logloss:0.43310\n",
      "[17]\tvalidation_0-logloss:0.42927\n",
      "[18]\tvalidation_0-logloss:0.42376\n",
      "[19]\tvalidation_0-logloss:0.41949\n",
      "[20]\tvalidation_0-logloss:0.41877\n",
      "[21]\tvalidation_0-logloss:0.41909\n",
      "[22]\tvalidation_0-logloss:0.41942\n",
      "[23]\tvalidation_0-logloss:0.42279\n",
      "[24]\tvalidation_0-logloss:0.42228\n",
      "[25]\tvalidation_0-logloss:0.42595\n",
      "[26]\tvalidation_0-logloss:0.42955\n",
      "[27]\tvalidation_0-logloss:0.42612\n",
      "[28]\tvalidation_0-logloss:0.43093\n",
      "[29]\tvalidation_0-logloss:0.43238\n",
      "[30]\tvalidation_0-logloss:0.43634\n",
      "[31]\tvalidation_0-logloss:0.43968\n",
      "[32]\tvalidation_0-logloss:0.43968\n",
      "[33]\tvalidation_0-logloss:0.43778\n",
      "[34]\tvalidation_0-logloss:0.44013\n",
      "[35]\tvalidation_0-logloss:0.44383\n",
      "[36]\tvalidation_0-logloss:0.45104\n",
      "[37]\tvalidation_0-logloss:0.45366\n",
      "[38]\tvalidation_0-logloss:0.45199\n",
      "[39]\tvalidation_0-logloss:0.45753\n",
      "[40]\tvalidation_0-logloss:0.45852\n",
      "[41]\tvalidation_0-logloss:0.46226\n",
      "[42]\tvalidation_0-logloss:0.46328\n",
      "[43]\tvalidation_0-logloss:0.46832\n",
      "[44]\tvalidation_0-logloss:0.46619\n",
      "[45]\tvalidation_0-logloss:0.46646\n",
      "[46]\tvalidation_0-logloss:0.46598\n",
      "[47]\tvalidation_0-logloss:0.46758\n",
      "[48]\tvalidation_0-logloss:0.46838\n",
      "[49]\tvalidation_0-logloss:0.47185\n",
      "[50]\tvalidation_0-logloss:0.47090\n",
      "[51]\tvalidation_0-logloss:0.47524\n",
      "[52]\tvalidation_0-logloss:0.47527\n",
      "[53]\tvalidation_0-logloss:0.47688\n",
      "[54]\tvalidation_0-logloss:0.47738\n",
      "[55]\tvalidation_0-logloss:0.47929\n",
      "[56]\tvalidation_0-logloss:0.48079\n",
      "[57]\tvalidation_0-logloss:0.48327\n",
      "[58]\tvalidation_0-logloss:0.48603\n",
      "[59]\tvalidation_0-logloss:0.48079\n",
      "[60]\tvalidation_0-logloss:0.48032\n",
      "[61]\tvalidation_0-logloss:0.48002\n",
      "[62]\tvalidation_0-logloss:0.48349\n",
      "[63]\tvalidation_0-logloss:0.48670\n",
      "[64]\tvalidation_0-logloss:0.49046\n",
      "[65]\tvalidation_0-logloss:0.49158\n",
      "[66]\tvalidation_0-logloss:0.49098\n",
      "[67]\tvalidation_0-logloss:0.49177\n",
      "[68]\tvalidation_0-logloss:0.49316\n",
      "[69]\tvalidation_0-logloss:0.49411\n",
      "[70]\tvalidation_0-logloss:0.50046\n",
      "[71]\tvalidation_0-logloss:0.50289\n",
      "[72]\tvalidation_0-logloss:0.50753\n",
      "[73]\tvalidation_0-logloss:0.50926\n",
      "[74]\tvalidation_0-logloss:0.50716\n",
      "[75]\tvalidation_0-logloss:0.50970\n",
      "[76]\tvalidation_0-logloss:0.51000\n",
      "[77]\tvalidation_0-logloss:0.51132\n",
      "[78]\tvalidation_0-logloss:0.51768\n",
      "[79]\tvalidation_0-logloss:0.52006\n",
      "[80]\tvalidation_0-logloss:0.52266\n",
      "[81]\tvalidation_0-logloss:0.52571\n",
      "[82]\tvalidation_0-logloss:0.52512\n",
      "[83]\tvalidation_0-logloss:0.52510\n",
      "[84]\tvalidation_0-logloss:0.52447\n",
      "[85]\tvalidation_0-logloss:0.52726\n",
      "[86]\tvalidation_0-logloss:0.52960\n",
      "[87]\tvalidation_0-logloss:0.52977\n",
      "[88]\tvalidation_0-logloss:0.53010\n",
      "[89]\tvalidation_0-logloss:0.53249\n",
      "[90]\tvalidation_0-logloss:0.53673\n",
      "[91]\tvalidation_0-logloss:0.53841\n",
      "[92]\tvalidation_0-logloss:0.53434\n",
      "[93]\tvalidation_0-logloss:0.53571\n",
      "[94]\tvalidation_0-logloss:0.53499\n",
      "[95]\tvalidation_0-logloss:0.53836\n",
      "[96]\tvalidation_0-logloss:0.54232\n",
      "[97]\tvalidation_0-logloss:0.54149\n",
      "[98]\tvalidation_0-logloss:0.54324\n",
      "[99]\tvalidation_0-logloss:0.54639\n",
      "Accuracy: 0.75\n"
     ]
    }
   ],
   "source": [
    "model = XGBClassifier(use_label_encoder=False)\n",
    "#model.fit(X_train, y_train, early_stopping_rounds=10, eval_set=eval_set, eval_metric=['logloss'], verbose=True )\n",
    "\n",
    "# fit model without early stopping\n",
    "model.fit(X_train, y_train, eval_set=eval_set, eval_metric=['logloss'], verbose=True )\n",
    "\n",
    "# make prediction\n",
    "y_pred = model.predict(X_test)\n",
    "accuracy = accuracy_score(y_test, y_pred)\n",
    "print(\"Accuracy:\", accuracy)"
   ]
  },
  {
   "cell_type": "code",
   "execution_count": 15,
   "metadata": {},
   "outputs": [
    {
     "name": "stdout",
     "output_type": "stream",
     "text": [
      "{'validation_0': OrderedDict([('logloss', [0.589672, 0.544106, 0.517701, 0.484108, 0.472846, 0.460386, 0.458597, 0.459891, 0.44784, 0.442618, 0.444353, 0.441326, 0.433919, 0.431432, 0.432451, 0.431324, 0.433096, 0.429274, 0.423762, 0.419491, 0.41877, 0.419089, 0.419424, 0.422791, 0.422284, 0.425948, 0.429554, 0.426122, 0.430926, 0.432383, 0.436343, 0.439678, 0.439685, 0.43778, 0.44013, 0.443829, 0.451045, 0.453656, 0.451986, 0.457531, 0.458518, 0.462262, 0.463279, 0.46832, 0.466191, 0.466455, 0.46598, 0.467578, 0.468376, 0.471852, 0.470898, 0.475239, 0.475273, 0.476881, 0.477383, 0.479287, 0.480786, 0.483265, 0.486033, 0.480787, 0.480324, 0.480016, 0.483494, 0.486701, 0.490461, 0.491584, 0.490982, 0.491773, 0.493155, 0.494105, 0.500458, 0.502889, 0.507532, 0.509261, 0.507165, 0.509699, 0.510004, 0.511321, 0.517684, 0.520059, 0.522664, 0.525711, 0.525124, 0.525101, 0.524467, 0.527257, 0.529596, 0.529769, 0.530097, 0.532493, 0.536735, 0.53841, 0.534342, 0.535712, 0.534985, 0.538358, 0.542318, 0.541495, 0.543241, 0.546392])])}\n",
      "100\n"
     ]
    }
   ],
   "source": [
    "# retrieve performance metrics\n",
    "results = model.evals_result()\n",
    "print(results)\n",
    "epoch = len(results['validation_0']['logloss'])\n",
    "print(epoch)"
   ]
  },
  {
   "cell_type": "code",
   "execution_count": 19,
   "metadata": {},
   "outputs": [
    {
     "data": {
      "image/png": "[encoded data removed]",
      "text/plain": [
       "<Figure size 432x288 with 1 Axes>"
      ]
     },
     "metadata": {
      "needs_background": "light"
     },
     "output_type": "display_data"
    }
   ],
   "source": [
    "# plot log loss\n",
    "x_axis = range(0, epoch)\n",
    "plt.plot(x_axis, results['validation_0']['logloss'])\n",
    "plt.ylabel(\"log loss\")\n",
    "plt.show()\n"
   ]
  },
  {
   "cell_type": "code",
   "execution_count": 20,
   "metadata": {},
   "outputs": [
    {
     "name": "stdout",
     "output_type": "stream",
     "text": [
      "[0]\tvalidation_0-logloss:0.58967\n",
      "[1]\tvalidation_0-logloss:0.54411\n",
      "[2]\tvalidation_0-logloss:0.51770\n",
      "[3]\tvalidation_0-logloss:0.48411\n",
      "[4]\tvalidation_0-logloss:0.47285\n",
      "[5]\tvalidation_0-logloss:0.46039\n",
      "[6]\tvalidation_0-logloss:0.45860\n",
      "[7]\tvalidation_0-logloss:0.45989\n",
      "[8]\tvalidation_0-logloss:0.44784\n",
      "[9]\tvalidation_0-logloss:0.44262\n",
      "[10]\tvalidation_0-logloss:0.44435\n",
      "[11]\tvalidation_0-logloss:0.44133\n",
      "[12]\tvalidation_0-logloss:0.43392\n",
      "[13]\tvalidation_0-logloss:0.43143\n",
      "[14]\tvalidation_0-logloss:0.43245\n",
      "[15]\tvalidation_0-logloss:0.43132\n",
      "[16]\tvalidation_0-logloss:0.43310\n",
      "[17]\tvalidation_0-logloss:0.42927\n",
      "[18]\tvalidation_0-logloss:0.42376\n",
      "[19]\tvalidation_0-logloss:0.41949\n",
      "[20]\tvalidation_0-logloss:0.41877\n",
      "[21]\tvalidation_0-logloss:0.41909\n",
      "[22]\tvalidation_0-logloss:0.41942\n",
      "[23]\tvalidation_0-logloss:0.42279\n",
      "[24]\tvalidation_0-logloss:0.42228\n",
      "[25]\tvalidation_0-logloss:0.42595\n",
      "[26]\tvalidation_0-logloss:0.42955\n",
      "[27]\tvalidation_0-logloss:0.42612\n",
      "[28]\tvalidation_0-logloss:0.43093\n",
      "[29]\tvalidation_0-logloss:0.43238\n",
      "[30]\tvalidation_0-logloss:0.43634\n",
      "Accuracy: 0.7672413793103449\n"
     ]
    }
   ],
   "source": [
    "# fit model with early stopping\n",
    "model.fit(X_train, y_train, early_stopping_rounds=10, eval_metric='logloss', eval_set=eval_set, verbose=True)\n",
    "\n",
    "# make prediction\n",
    "y_pred = model.predict(X_test)\n",
    "accuracy = accuracy_score(y_test, y_pred)\n",
    "print(\"Accuracy:\", accuracy)"
   ]
  },
  {
   "cell_type": "markdown",
   "metadata": {},
   "source": [
    "## 5. Feature Importance with XGBoost\n",
    "\n",
    "Importance is calculated for a single decision tree by the amount that each attribute split point improves the performance measure, weighted by the number of observations the node is responsible for.\n"
   ]
  },
  {
   "cell_type": "code",
   "execution_count": 26,
   "metadata": {},
   "outputs": [
    {
     "name": "stdout",
     "output_type": "stream",
     "text": [
      "[0.08915061 0.24205089 0.10710493 0.08583774 0.10389856 0.1482233\n",
      " 0.09711989 0.12661403]\n"
     ]
    },
    {
     "data": {
      "image/png": "[encoded data removed]",
      "text/plain": [
       "<Figure size 432x288 with 1 Axes>"
      ]
     },
     "metadata": {
      "needs_background": "light"
     },
     "output_type": "display_data"
    }
   ],
   "source": [
    "from xgboost import plot_importance\n",
    "print(model.feature_importances_)\n",
    "\n",
    "plot_importance(model)\n",
    "plt.show()"
   ]
  },
  {
   "cell_type": "markdown",
   "metadata": {},
   "source": [
    "### Feature Selection\n",
    "\n",
    "We can use ```SelectFromModel``` class. It can take a pre-trained model, the use a threshold to decide which features to select.\n",
    "This threshold then can be used to ```transform``` X and y.\n"
   ]
  },
  {
   "cell_type": "code",
   "execution_count": 50,
   "metadata": {},
   "outputs": [
    {
     "name": "stdout",
     "output_type": "stream",
     "text": [
      "Threshold: 0.085838 ; Accuracy: 0.750000\n",
      "Threshold: 0.089151 ; Accuracy: 0.750000\n",
      "Threshold: 0.097120 ; Accuracy: 0.750000\n",
      "Threshold: 0.103899 ; Accuracy: 0.767241\n",
      "Threshold: 0.107105 ; Accuracy: 0.724138\n",
      "Threshold: 0.126614 ; Accuracy: 0.732759\n",
      "Threshold: 0.148223 ; Accuracy: 0.750000\n",
      "Threshold: 0.242051 ; Accuracy: 0.706897\n"
     ]
    }
   ],
   "source": [
    "from numpy import sort\n",
    "from sklearn.feature_selection import SelectFromModel\n",
    "\n",
    "# threshold:\n",
    "threshold = sort(model.feature_importances_)\n",
    "for thres in threshold:\n",
    "    # initiate the selection object:\n",
    "    selection = SelectFromModel(model, threshold=thres, prefit=True)\n",
    "    # transfrom X\n",
    "    X_train_selected = selection.transform(X_train)\n",
    "    X_test_selected = selection.transform(X_test)\n",
    "\n",
    "    #train model\n",
    "    model_selected = XGBClassifier(use_label_encoder=False)\n",
    "    model_selected.fit(X_train_selected, y_train, eval_metric='logloss')\n",
    "    #evaluate model\n",
    "    y_pred = model_selected.predict(X_test_selected)\n",
    "    accuracy = accuracy_score(y_test, y_pred)\n",
    "    print('Threshold: {:3f} ; Accuracy: {:3f}'.format(thres, accuracy))"
   ]
  },
  {
   "cell_type": "markdown",
   "metadata": {},
   "source": [
    "We can see that the accuracy does decrease as we decrease the threshold (a.k.a. increase the number of features)"
   ]
  },
  {
   "cell_type": "markdown",
   "metadata": {},
   "source": [
    "## 6. Configure Gradient Boosting\n",
    "\n",
    "- ```learning_rate```: should be 0.1 or lower\n",
    "- ```max_depth```: should be 2-8\n",
    "- ```subsample```: 30% to 80% of the training dataset"
   ]
  },
  {
   "cell_type": "code",
   "execution_count": null,
   "metadata": {},
   "outputs": [],
   "source": [
    "## 7. XGBoost Hyperparameter tuning\n"
   ]
  }
 ],
 "metadata": {
  "interpreter": {
   "hash": "e47af529d91ff32dd833a185d8cb554f3ce2f3ce4fdfbe65088194cd2b7d9c6b"
  },
  "kernelspec": {
   "display_name": "Python 3.8.8 64-bit ('base': conda)",
   "name": "python3"
  },
  "language_info": {
   "codemirror_mode": {
    "name": "ipython",
    "version": 3
   },
   "file_extension": ".py",
   "mimetype": "text/x-python",
   "name": "python",
   "nbconvert_exporter": "python",
   "pygments_lexer": "ipython3",
   "version": "3.8.8"
  },
  "orig_nbformat": 4
 },
 "nbformat": 4,
 "nbformat_minor": 2
}
